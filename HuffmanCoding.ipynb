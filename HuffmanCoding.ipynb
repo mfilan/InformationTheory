{
 "cells": [
  {
   "cell_type": "markdown",
   "metadata": {},
   "source": [
    "# HUFFMAN CODING"
   ]
  },
  {
   "cell_type": "code",
   "execution_count": 72,
   "metadata": {},
   "outputs": [],
   "source": [
    "from queue import PriorityQueue"
   ]
  },
  {
   "cell_type": "code",
   "execution_count": 73,
   "metadata": {},
   "outputs": [],
   "source": [
    "def read_file(path):\n",
    "    with open(path,\"r+\") as f:\n",
    "        file = f.read()\n",
    "    return file"
   ]
  },
  {
   "cell_type": "code",
   "execution_count": 74,
   "metadata": {},
   "outputs": [],
   "source": [
    "file = read_file(\"norm_wiki_sample.txt\")"
   ]
  },
  {
   "cell_type": "code",
   "execution_count": 75,
   "metadata": {},
   "outputs": [],
   "source": [
    "class Node():\n",
    "    def __init__(self,value,left, right):\n",
    "        self.value = value\n",
    "        self.left = left\n",
    "        self.right = right\n",
    "        self.code = ''"
   ]
  },
  {
   "cell_type": "code",
   "execution_count": 76,
   "metadata": {},
   "outputs": [],
   "source": [
    "class HuffmannCode():\n",
    "    def __init__(self,sample):\n",
    "        self.encoder_dict = dict()\n",
    "        self.decoder_dict = dict()\n",
    "        self.q = PriorityQueue()\n",
    "        self.sample = sample\n",
    "        self.initialize_queue()\n",
    "        root = self.q.get()\n",
    "        self.create(root[1])\n",
    "        \n",
    "    def get_frequencies_of_chars(self,jump=0):\n",
    "        letters_occurances ={}\n",
    "        for pointer in range(0,len(self.sample)):\n",
    "            char = self.sample[pointer:pointer+jump+1] \n",
    "            if len(char) == jump+1:\n",
    "                if char in letters_occurances:\n",
    "                    letters_occurances[char]+=1\n",
    "                else:\n",
    "                    letters_occurances[char] =1\n",
    "        return letters_occurances\n",
    "        \n",
    "    def initialize_queue(self):\n",
    "        frequencies = self.get_frequencies_of_chars()\n",
    "        letters = set(frequencies.keys())\n",
    "        for letter in letters:\n",
    "            self.q.put((frequencies[letter], Node(letter,None, None)))   \n",
    "        while( self.q.qsize() > 1):\n",
    "            freq1, node1 = self.q.get()\n",
    "            freq2, node2 = self.q.get()\n",
    "            root = Node(None,node1,node2)\n",
    "            self.q.put((freq1+freq2, root))\n",
    "        \n",
    "    def create(self,root):\n",
    "        if root.value is not None:\n",
    "            self.decoder_dict[root.code] = root.value\n",
    "            self.encoder_dict[root.value] = root.code\n",
    "        if root.right is not None:\n",
    "            root.right.code = root.code + \"1\"\n",
    "            self.create(root.right)\n",
    "        if root.left is not None:\n",
    "            root.left.code = root.code + \"0\"\n",
    "            self.create(root.left)\n",
    "\n",
    "    def encode(self,sample):\n",
    "        return ''.join([self.encoder_dict[char] for char in sample])\n",
    "    \n",
    "    def decode(self,sample):\n",
    "        decoded_sample = \"\"\n",
    "        current_code = \"\"\n",
    "        for char in sample:\n",
    "            current_code += char\n",
    "            if current_code in self.decoder_dict.keys():\n",
    "                decoded_sample += self.decoder_dict[current_code]\n",
    "                current_code = \"\"\n",
    "        return decoded_sample\n"
   ]
  },
  {
   "cell_type": "code",
   "execution_count": 77,
   "metadata": {},
   "outputs": [],
   "source": [
    "huffman_code = HuffmannCode(file)"
   ]
  },
  {
   "cell_type": "code",
   "execution_count": 78,
   "metadata": {},
   "outputs": [
    {
     "data": {
      "text/plain": [
       "True"
      ]
     },
     "execution_count": 78,
     "metadata": {},
     "output_type": "execute_result"
    }
   ],
   "source": [
    "file == huffman_code.decode(huffman_code.encode(file))"
   ]
  }
 ],
 "metadata": {
  "kernelspec": {
   "display_name": "Python 3",
   "language": "python",
   "name": "python3"
  },
  "language_info": {
   "codemirror_mode": {
    "name": "ipython",
    "version": 3
   },
   "file_extension": ".py",
   "mimetype": "text/x-python",
   "name": "python",
   "nbconvert_exporter": "python",
   "pygments_lexer": "ipython3",
   "version": "3.8.5"
  }
 },
 "nbformat": 4,
 "nbformat_minor": 4
}
