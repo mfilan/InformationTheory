{
 "cells": [
  {
   "cell_type": "markdown",
   "metadata": {},
   "source": [
    "#  LZW algorithm"
   ]
  },
  {
   "cell_type": "code",
   "execution_count": 1,
   "metadata": {},
   "outputs": [],
   "source": [
    "import pickle"
   ]
  },
  {
   "cell_type": "code",
   "execution_count": 2,
   "metadata": {},
   "outputs": [],
   "source": [
    "from PIL import Image "
   ]
  },
  {
   "cell_type": "code",
   "execution_count": 3,
   "metadata": {},
   "outputs": [],
   "source": [
    "def read_file(path):\n",
    "    with open(path,\"r+\") as f:\n",
    "        file = f.read()\n",
    "    return file"
   ]
  },
  {
   "cell_type": "code",
   "execution_count": 4,
   "metadata": {},
   "outputs": [],
   "source": [
    "def lzw_compress(data):\n",
    "    num_of_chars = 256\n",
    "    lzw_dictionary =  {chr(i): chr(i) for i in range(num_of_chars)}\n",
    "    c =\"\"\n",
    "    result = []\n",
    "    for s in data:\n",
    "        cs = c+s\n",
    "        if cs in lzw_dictionary:\n",
    "            c = cs\n",
    "        else:\n",
    "            result.append(lzw_dictionary[c])\n",
    "            lzw_dictionary[cs] = num_of_chars\n",
    "            num_of_chars += 1\n",
    "            c = s\n",
    "    if c:\n",
    "        result.append(lzw_dictionary[c])\n",
    "    return result"
   ]
  },
  {
   "cell_type": "code",
   "execution_count": 5,
   "metadata": {},
   "outputs": [],
   "source": [
    "def read_compressed_file(path):\n",
    "    with open(path, \"rb\") as op_file:\n",
    "        while True:\n",
    "            try:\n",
    "                data = pickle.load(op_file)\n",
    "            except EOFError:\n",
    "                break\n",
    "    return data"
   ]
  },
  {
   "cell_type": "code",
   "execution_count": 6,
   "metadata": {},
   "outputs": [],
   "source": [
    "def save_compressed_data(path,data):\n",
    "    with open(path,\"wb\") as file:\n",
    "        pickle.dump(data,file)"
   ]
  },
  {
   "cell_type": "code",
   "execution_count": 7,
   "metadata": {},
   "outputs": [],
   "source": [
    "def lzw_decompress(data):\n",
    "    num_of_chars = 256\n",
    "    lzw_dictionary = {chr(i): chr(i) for i in range(num_of_chars)}\n",
    "    pk = result = data.pop(0)\n",
    "    for k in data:\n",
    "        if k in lzw_dictionary:\n",
    "            pc = lzw_dictionary[k]\n",
    "        elif k == num_of_chars:\n",
    "            pc = pk + pk[0]\n",
    "        result += pc\n",
    "        lzw_dictionary[num_of_chars] = pk + pc[0]\n",
    "        num_of_chars += 1\n",
    "\n",
    "        pk = pc\n",
    "    return result"
   ]
  },
  {
   "cell_type": "code",
   "execution_count": 8,
   "metadata": {},
   "outputs": [],
   "source": [
    "file = read_file(\"norm_wiki_sample.txt\")\n",
    "assert file == lzw_decompress(lzw_compress(file))"
   ]
  },
  {
   "cell_type": "code",
   "execution_count": 9,
   "metadata": {
    "scrolled": true
   },
   "outputs": [],
   "source": [
    "file = read_file(\"wiki_sample.txt\")\n",
    "assert file == lzw_decompress(lzw_compress(file))"
   ]
  },
  {
   "cell_type": "code",
   "execution_count": 20,
   "metadata": {},
   "outputs": [],
   "source": [
    "file = Image.open(\"lena.bmp\").tobytes()"
   ]
  },
  {
   "cell_type": "code",
   "execution_count": 21,
   "metadata": {},
   "outputs": [],
   "source": [
    "compressed = lzw_compress(str(file))"
   ]
  },
  {
   "cell_type": "code",
   "execution_count": 22,
   "metadata": {},
   "outputs": [],
   "source": [
    "save_compressed_data(\"lena_compressed.BIN\",compressed)"
   ]
  },
  {
   "cell_type": "code",
   "execution_count": 23,
   "metadata": {},
   "outputs": [],
   "source": [
    "compressed = read_compressed_file(\"lena_compressed.BIN\")"
   ]
  },
  {
   "cell_type": "code",
   "execution_count": 24,
   "metadata": {},
   "outputs": [],
   "source": [
    "assert str(file) == lzw_decompress(compressed)"
   ]
  }
 ],
 "metadata": {
  "kernelspec": {
   "display_name": "Python 3",
   "language": "python",
   "name": "python3"
  },
  "language_info": {
   "codemirror_mode": {
    "name": "ipython",
    "version": 3
   },
   "file_extension": ".py",
   "mimetype": "text/x-python",
   "name": "python",
   "nbconvert_exporter": "python",
   "pygments_lexer": "ipython3",
   "version": "3.8.5"
  }
 },
 "nbformat": 4,
 "nbformat_minor": 4
}
