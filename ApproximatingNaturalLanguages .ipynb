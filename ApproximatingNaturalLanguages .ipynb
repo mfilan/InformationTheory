{
 "cells": [
  {
   "cell_type": "markdown",
   "metadata": {},
   "source": [
    "**LAB 1**\n",
    "**Approximating natural languages**"
   ]
  },
  {
   "cell_type": "markdown",
   "metadata": {},
   "source": [
    "PREPRATATION"
   ]
  },
  {
   "cell_type": "code",
   "execution_count": 1,
   "metadata": {},
   "outputs": [],
   "source": [
    "import random\n",
    "import matplotlib.pyplot as plt\n",
    "\n",
    "def get_data(files):\n",
    "    data = \"\"\n",
    "    for file in files:\n",
    "        text = open(\"/home/maciej/Information Theory/lab1/lab1_2/\"+file)\n",
    "        for letter in text:\n",
    "                data +=letter\n",
    "    data = ''.join([i for i in data if not i.isdigit()])\n",
    "    return data\n",
    "files = ['norm_romeo_and_juliet.txt','norm_hamlet.txt','norm_wiki_sample.txt']\n",
    "file = get_data(files) "
   ]
  },
  {
   "cell_type": "code",
   "execution_count": 2,
   "metadata": {},
   "outputs": [],
   "source": [
    "class Text:\n",
    "    def __init__(self,text,letters_frequency=None,order_number=0):\n",
    "        self.text = text\n",
    "        self.length = len(text)\n",
    "        self.num_of_order = order_number\n",
    "        self.words = None\n",
    "        self.letters_dictionary = None\n",
    "        self.average_word_length = None\n",
    "        self.letters_frequency = letters_frequency\n",
    "        \n",
    "    def run(self):\n",
    "        self.letters_dictionary = self.get_count_letters()\n",
    "        self.get_words()\n",
    "        self.get_average_word_len()\n",
    "        self.get_letters_frequency()\n",
    "        \n",
    "    def get_count_letters(self):\n",
    "        letters = {}\n",
    "        for pointer in range(0,len(self.text), 1):\n",
    "            if self.text[pointer:pointer + self.num_of_order+1] in letters :\n",
    "                letters[self.text[pointer:pointer + self.num_of_order+1]] += 1\n",
    "            else:\n",
    "                letters[self.text[pointer:pointer + self.num_of_order+1]] = 1\n",
    "        return letters\n",
    "\n",
    "    def get_words(self):\n",
    "        words = self.text.split(' ')\n",
    "        self.words = words\n",
    "\n",
    "\n",
    "    def get_average_word_len(self):\n",
    "        lengths = []\n",
    "        for word in self.words:\n",
    "            lengths.append(len(word))\n",
    "        self.average_word_length = (sum(lengths) / len(lengths))\n",
    "\n",
    "    def get_letter_frequency(self,occurrences, length):\n",
    "        return float(occurrences / length)\n",
    "\n",
    "\n",
    "    def get_letters_frequency(self):\n",
    "        frequency_dictionary = {}\n",
    "        for key, value in  self.letters_dictionary.items():\n",
    "            frequency_dictionary[key] =  self.get_letter_frequency(self.letters_dictionary[key], self.length)\n",
    "        self.letters_frequency = frequency_dictionary\n",
    "        \n",
    "    def show_letters_frequency(self):\n",
    "        plt.bar(range(len(self.letters_frequency)), list(self.letters_frequency.values()), align='center')\n",
    "        plt.xticks(range(len(self.letters_frequency)), list(self.letters_frequency.keys()))\n",
    "        plt.show()\n",
    "        \n",
    "    def get_n_most_frequent_letters(self,n):\n",
    "        frequency = list(self.letters_dictionary.items())\n",
    "        frequency.sort(key = lambda x: x[1],reverse=True)\n",
    "        return frequency[:n]\n"
   ]
  },
  {
   "cell_type": "markdown",
   "metadata": {},
   "source": [
    "Zeroth-order approximation"
   ]
  },
  {
   "cell_type": "code",
   "execution_count": 3,
   "metadata": {},
   "outputs": [
    {
     "name": "stdout",
     "output_type": "stream",
     "text": [
      "Average word length in this approximation is: 25.89620763851533\n"
     ]
    }
   ],
   "source": [
    "def generate_zeroth_order():\n",
    "    text = ''.join(random.choices(['a','b','c','d','e','f','g','h','i','j','k','l','m','n','o','p','q','r','s','t','u',\n",
    "                                'v','w','x','y','z',' '], k=1000000))\n",
    "    return Text(text)\n",
    "\n",
    "zeroth_order = generate_zeroth_order()\n",
    "zeroth_order.run()\n",
    "average_word_len = zeroth_order.average_word_length\n",
    "print(\"Average word length in this approximation is:\", average_word_len)"
   ]
  },
  {
   "cell_type": "markdown",
   "metadata": {},
   "source": [
    "Frequency of letters"
   ]
  },
  {
   "cell_type": "code",
   "execution_count": 4,
   "metadata": {},
   "outputs": [
    {
     "data": {
      "image/png": "[encoded data removed]",
      "text/plain": [
       "<Figure size 432x288 with 1 Axes>"
      ]
     },
     "metadata": {
      "needs_background": "light"
     },
     "output_type": "display_data"
    }
   ],
   "source": [
    "text = Text(file)\n",
    "text.run()\n",
    "text.show_letters_frequency()"
   ]
  },
  {
   "cell_type": "markdown",
   "metadata": {},
   "source": [
    "Comparison between frequency graph with letters in Morse code shows that the more frequent the letter is the shorter is its Morse code length. The most probable letter to occur is \"e\". Second place goes to letter \"a\". Least probable letters are \"q\",\"z\",\"v\",\"j\"."
   ]
  },
  {
   "cell_type": "markdown",
   "metadata": {},
   "source": [
    "First-order approximation"
   ]
  },
  {
   "cell_type": "code",
   "execution_count": 5,
   "metadata": {},
   "outputs": [
    {
     "name": "stdout",
     "output_type": "stream",
     "text": [
      "Average word length in this approximation is: 4.678960429040661\n"
     ]
    }
   ],
   "source": [
    "def generate_first_order(file):\n",
    "    text = Text(file)\n",
    "    letters_frequency = text.get_count_letters()\n",
    "    generated_letters = random.choices(list(letters_frequency.keys()), weights=list(letters_frequency.values()),\n",
    "                                       k=text.length)\n",
    "    return Text(''.join(generated_letters))\n",
    "\n",
    "first_order = generate_first_order(file)\n",
    "first_order.run()\n",
    "average_word_len = first_order.average_word_length\n",
    "print(\"Average word length in this approximation is:\", average_word_len)"
   ]
  },
  {
   "cell_type": "markdown",
   "metadata": {},
   "source": [
    "Conditional probability of letters"
   ]
  },
  {
   "cell_type": "code",
   "execution_count": 6,
   "metadata": {},
   "outputs": [],
   "source": [
    "def prob_occuring_after_letter(file,letter,jump):\n",
    "    text = Text(file)\n",
    "    setattr(text, \"num_of_order\", jump-1)\n",
    "    dic = text.get_count_letters()\n",
    "    probability_dict = {}\n",
    "    for key,value in dic.items():\n",
    "        if letter[0][:jump-1] == key[:jump-1]:\n",
    "            probability_dict[key[-1:]] = value/letter[1] \n",
    "    return  probability_dict"
   ]
  },
  {
   "cell_type": "code",
   "execution_count": 7,
   "metadata": {
    "scrolled": true
   },
   "outputs": [
    {
     "name": "stdout",
     "output_type": "stream",
     "text": [
      "{'t': 0.13104900844649858, 'o': 0.06087084332754007, 'r': 0.031430583879425746, 'a': 0.1125544797314063, 'j': 0.009073940710669097, 'b': 0.04608143682669163, 'w': 0.04914910733053662, 's': 0.07322318238020255, 'd': 0.03212967348248298, 'p': 0.04093704347789438, 'c': 0.05324829060211792, 'e': 0.02361679564088394, 'v': 0.009210913805465543, 'y': 0.00566225701104688, 'k': 0.0083759047468026, 'm': 0.03894882632496445, 'h': 0.038201269319133084, 'f': 0.041808403088637924, 'n': 0.021839306326102384, 'l': 0.027184944760331328, 'g': 0.01829591772763743, 'i': 0.06183386954787815, 'u': 0.012088402435381625, 'q': 0.0018096253100991844, ' ': 5.268195953709416e-07, 'z': 0.0009767235298177256, 'x': 0.0006874995719590788}\n",
      "{' ': 0.3104416209208874, 'd': 0.08516099264560383, 'o': 0.005311883735095016, 't': 0.026627952883214814, 's': 0.08164644264024656, 'a': 0.04852704543238811, 'r': 0.14401643276552903, 'p': 0.011071652996827155, 'w': 0.00917972275499793, 'n': 0.08732223336573425, 'g': 0.009869891185052979, 'c': 0.029285342656559642, 'e': 0.021778433732730102, 'm': 0.022214736012988682, 'h': 0.0021708934254458826, 'i': 0.010901765383275143, 'x': 0.010099625571560814, 'f': 0.00931968698207203, 'l': 0.03875850765314741, 'v': 0.014680799514275868, 'y': 0.008835121175236178, 'k': 0.0020106585172093255, 'b': 0.004061858396743563, 'u': 0.0032925377831017812, 'j': 0.00041603159909612067, 'q': 0.0020154848698670535, 'z': 0.000982645401113343}\n"
     ]
    }
   ],
   "source": [
    "text = Text(file)\n",
    "text.run()\n",
    "most_frequent_letters = text.get_n_most_frequent_letters(2)\n",
    "\n",
    "for letter in most_frequent_letters:\n",
    "    print(prob_occuring_after_letter(file,letter,2))"
   ]
  },
  {
   "cell_type": "markdown",
   "metadata": {},
   "source": [
    "Approximations based on Markov sources"
   ]
  },
  {
   "cell_type": "code",
   "execution_count": 15,
   "metadata": {},
   "outputs": [],
   "source": [
    "def generate_nth_markov(file,generated_text,markov_number):\n",
    "    text = Text(file)\n",
    "    setattr(text, \"num_of_order\",markov_number-1)\n",
    "    dic = text.get_count_letters()\n",
    "    curr_prob = prob_occuring_after_letter(file,(generated_text[-markov_number:],\\\n",
    "                                                dic[generated_text[-markov_number:]]),markov_number+1)\n",
    "    probability_dictionary = {generated_text[-markov_number:]:curr_prob }\n",
    "    for i in range(200):\n",
    "        letter= random.choices(list(curr_prob.keys()), weights=list(curr_prob.values()),\n",
    "                                               k=1)[0]\n",
    "        generated_text += letter\n",
    "        print(letter,end='')\n",
    "        if generated_text[-markov_number:] not in probability_dictionary:\n",
    "            curr_prob = prob_occuring_after_letter(file,(generated_text[-markov_number:],\\\n",
    "                                                dic[generated_text[-markov_number:]]),markov_number+1)\n",
    "            probability_dictionary[generated_text[-markov_number:]] = curr_prob\n",
    "        else:\n",
    "            curr_prob = probability_dictionary[generated_text[-markov_number:]]\n",
    "    return generated_text\n"
   ]
  },
  {
   "cell_type": "code",
   "execution_count": 16,
   "metadata": {},
   "outputs": [
    {
     "name": "stdout",
     "output_type": "stream",
     "text": [
      "edrs baior githo d themie beegea t singes iatuia cithevinagatrquas itow medinghers orerombis woly merr sllel livexailerind as wh dist tis erioowan ang ant ar testhundmmed o s igist bag m ay astiatylis"
     ]
    }
   ],
   "source": [
    "text_approximation1 = generate_nth_markov(file,\"probability\",1)"
   ]
  },
  {
   "cell_type": "code",
   "execution_count": 17,
   "metadata": {},
   "outputs": [
    {
     "name": "stdout",
     "output_type": "stream",
     "text": [
      " wellian againment join the gotation the judance of back date pareeks it curing he have il exten i and that the ear polish assic alongs  gotch raise organies sealphilore boaristings a not was  showeve"
     ]
    }
   ],
   "source": [
    "text_approximation3 = generate_nth_markov(file,\"probability\",3)"
   ]
  },
  {
   "cell_type": "code",
   "execution_count": 18,
   "metadata": {},
   "outputs": [
    {
     "name": "stdout",
     "output_type": "stream",
     "text": [
      " fused on bbc home brouncke the siege or example zine scale list into two decatur times in the usa  california or went to ecuador specially by the lxii left for the late  french parrots and chorus is "
     ]
    }
   ],
   "source": [
    "text_approximation5 = generate_nth_markov(file,\"probability\",5)"
   ]
  },
  {
   "cell_type": "code",
   "execution_count": 23,
   "metadata": {},
   "outputs": [
    {
     "name": "stdout",
     "output_type": "stream",
     "text": [
      "Average word length in 1th Markov approximation is: 5.424242424242424\n",
      "Average word length in 3th Markov approximation is: 4.72972972972973\n",
      "Average word length in 5th Markov approximation is: 4.170731707317073\n"
     ]
    }
   ],
   "source": [
    "for idx, text in zip([1,3,5],[text_approximation1,text_approximation3,text_approximation5]):\n",
    "    first_order = Text(text)\n",
    "    first_order.run()\n",
    "    average_word_len = first_order.average_word_length\n",
    "    print(f\"Average word length in {idx}th Markov approximation is:\", average_word_len)"
   ]
  }
 ],
 "metadata": {
  "kernelspec": {
   "display_name": "Python 3",
   "language": "python",
   "name": "python3"
  },
  "language_info": {
   "codemirror_mode": {
    "name": "ipython",
    "version": 3
   },
   "file_extension": ".py",
   "mimetype": "text/x-python",
   "name": "python",
   "nbconvert_exporter": "python",
   "pygments_lexer": "ipython3",
   "version": "3.8.5"
  }
 },
 "nbformat": 4,
 "nbformat_minor": 4
}
